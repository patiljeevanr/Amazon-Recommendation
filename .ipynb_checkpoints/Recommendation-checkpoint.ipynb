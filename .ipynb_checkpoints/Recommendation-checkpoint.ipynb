{
 "cells": [
  {
   "cell_type": "code",
   "execution_count": 3,
   "metadata": {},
   "outputs": [],
   "source": [
    "%matplotlib inline\n",
    "import numpy as np\n",
    "import pandas as pd\n",
    "import matplotlib.pyplot as plt\n",
    "from pandas import DataFrame \n",
    "import nltk\n",
    "\n",
    "from sklearn.neighbors import NearestNeighbors\n",
    "from sklearn.linear_model import LogisticRegression\n",
    "from sklearn import neighbors\n",
    "from scipy.spatial.distance import cosine\n",
    "from sklearn.metrics import classification_report\n",
    "from sklearn.metrics import accuracy_score\n",
    "from sklearn.feature_selection import SelectKBest\n",
    "from sklearn.feature_extraction.text import CountVectorizer, TfidfTransformer\n",
    "\n",
    "import re\n",
    "import string\n",
    "from sklearn.metrics import mean_squared_error\n",
    "\n",
    "\n",
    "df= pd.read_json(\"Automotive_5.json\",lines = True)\n",
    "df = df[['asin','overall','reviewerID']].copy()"
   ]
  },
  {
   "cell_type": "code",
   "execution_count": 4,
   "metadata": {},
   "outputs": [
    {
     "data": {
      "text/plain": [
       "array(['B00002243X', 'B00002243Z', 'B00008BKX5', ..., 'B00JGM7Z5Q',\n",
       "       'B00JGP8I1S', 'B00KIAQ8VW'], dtype=object)"
      ]
     },
     "execution_count": 4,
     "metadata": {},
     "output_type": "execute_result"
    }
   ],
   "source": [
    "df_asin = df.groupby('asin').count()\n",
    "df_asin = df_asin.index.values\n",
    "df_asin"
   ]
  },
  {
   "cell_type": "code",
   "execution_count": 5,
   "metadata": {},
   "outputs": [
    {
     "data": {
      "text/plain": [
       "array(['A00473363TJ8YSZ3YAGG9', 'A0473259F6GQNBD88IYN',\n",
       "       'A09567722SXKYZTV7OFCJ', ..., 'AZTAK8PFB0NLV', 'AZV2U6GU5QA6C',\n",
       "       'AZYBZEVISD0YX'], dtype=object)"
      ]
     },
     "execution_count": 5,
     "metadata": {},
     "output_type": "execute_result"
    }
   ],
   "source": [
    "df_reviewerID = df.groupby('reviewerID').count()\n",
    "df_reviewerID = df_reviewerID.index.values\n",
    "df_reviewerID"
   ]
  },
  {
   "cell_type": "code",
   "execution_count": 6,
   "metadata": {},
   "outputs": [],
   "source": [
    "df_dict = {}\n",
    "for line in df.values:\n",
    "    if line[0] in df_dict:\n",
    "        df_dict[line[0]].append(line[2])\n",
    "    else:\n",
    "        df_dict[line[0]] = [line[2]]"
   ]
  },
  {
   "cell_type": "code",
   "execution_count": 8,
   "metadata": {},
   "outputs": [
    {
     "name": "stdout",
     "output_type": "stream",
     "text": [
      "1835\n",
      "2928\n",
      "1835\n"
     ]
    }
   ],
   "source": [
    "print(len(df_asin))\n",
    "print(len(df_reviewerID))\n",
    "print(len(df_dict))"
   ]
  },
  {
   "cell_type": "code",
   "execution_count": 9,
   "metadata": {},
   "outputs": [
    {
     "data": {
      "text/plain": [
       "5352407"
      ]
     },
     "execution_count": 9,
     "metadata": {},
     "output_type": "execute_result"
    }
   ],
   "source": [
    "predict_for_this = []\n",
    "count = 0\n",
    "for i in range(len(df_reviewerID)):\n",
    "    for j in range(len(df_asin)):\n",
    "        if not df_reviewerID[i] in df_dict[df_asin[j]]:\n",
    "            predict_for_this.append((df_reviewerID[i],df_asin[j]))\n",
    "            \n",
    "len(predict_for_this)"
   ]
  },
  {
   "cell_type": "code",
   "execution_count": 14,
   "metadata": {},
   "outputs": [],
   "source": [
    "df_new = df.pivot(index = \"asin\" , columns = \"reviewerID\" , values = \"overall\")\n",
    "# df_original = df_new.copy()\n",
    "df_new = df_new.sort_index(axis=1)"
   ]
  },
  {
   "cell_type": "code",
   "execution_count": 15,
   "metadata": {},
   "outputs": [],
   "source": [
    "X = df_new.values\n",
    "Y = df_new.sum(axis = 1)\n",
    "Z =df_new.count(axis =1).astype('float64')\n",
    "Y = Y.div(Z,axis=0)\n",
    "df_new = df_new.sub(Y,axis=0).fillna(0)"
   ]
  },
  {
   "cell_type": "code",
   "execution_count": 16,
   "metadata": {},
   "outputs": [],
   "source": [
    "nbrs_train = NearestNeighbors(n_neighbors= 5, algorithm='auto',metric ='cosine').fit(df_new.values)"
   ]
  },
  {
   "cell_type": "code",
   "execution_count": 17,
   "metadata": {},
   "outputs": [],
   "source": [
    "distances, indices = nbrs_train.kneighbors(df_new,return_distance=True)"
   ]
  },
  {
   "cell_type": "code",
   "execution_count": 20,
   "metadata": {},
   "outputs": [],
   "source": [
    "item_avg = df.groupby(['asin']).mean()"
   ]
  },
  {
   "cell_type": "code",
   "execution_count": 22,
   "metadata": {},
   "outputs": [],
   "source": [
    "user_avg = df.groupby(['reviewerID']).mean()"
   ]
  },
  {
   "cell_type": "code",
   "execution_count": 23,
   "metadata": {},
   "outputs": [],
   "source": [
    "mean_avg = df[\"overall\"].mean()"
   ]
  },
  {
   "cell_type": "code",
   "execution_count": 26,
   "metadata": {},
   "outputs": [
    {
     "data": {
      "text/plain": [
       "array(['B00002243X', 'B00002243Z', 'B00008BKX5', ..., 'B00JGM7Z5Q',\n",
       "       'B00JGP8I1S', 'B00KIAQ8VW'], dtype=object)"
      ]
     },
     "execution_count": 26,
     "metadata": {},
     "output_type": "execute_result"
    }
   ],
   "source": [
    "item_map = df_new.index.values\n",
    "item_map"
   ]
  },
  {
   "cell_type": "code",
   "execution_count": 27,
   "metadata": {},
   "outputs": [
    {
     "ename": "NameError",
     "evalue": "name 'df_original_train' is not defined",
     "output_type": "error",
     "traceback": [
      "\u001b[0;31m---------------------------------------------------------------------------\u001b[0m",
      "\u001b[0;31mNameError\u001b[0m                                 Traceback (most recent call last)",
      "\u001b[0;32m<ipython-input-27-29c78cb843e4>\u001b[0m in \u001b[0;36m<module>\u001b[0;34m()\u001b[0m\n\u001b[1;32m     37\u001b[0m \u001b[0;34m\u001b[0m\u001b[0m\n\u001b[1;32m     38\u001b[0m         \u001b[0;32mfor\u001b[0m \u001b[0mj\u001b[0m \u001b[0;32min\u001b[0m \u001b[0mitem_nbrs\u001b[0m\u001b[0;34m:\u001b[0m\u001b[0;34m\u001b[0m\u001b[0m\n\u001b[0;32m---> 39\u001b[0;31m             \u001b[0mtemp\u001b[0m \u001b[0;34m=\u001b[0m \u001b[0mdf_original_train\u001b[0m\u001b[0;34m.\u001b[0m\u001b[0mloc\u001b[0m\u001b[0;34m[\u001b[0m\u001b[0;34m(\u001b[0m\u001b[0mdf_original_train\u001b[0m\u001b[0;34m[\u001b[0m\u001b[0;34m'asin'\u001b[0m\u001b[0;34m]\u001b[0m \u001b[0;34m==\u001b[0m \u001b[0mitem_map\u001b[0m\u001b[0;34m[\u001b[0m\u001b[0mj\u001b[0m\u001b[0;34m[\u001b[0m\u001b[0;36m0\u001b[0m\u001b[0;34m]\u001b[0m\u001b[0;34m]\u001b[0m\u001b[0;34m)\u001b[0m \u001b[0;34m&\u001b[0m  \u001b[0;34m(\u001b[0m\u001b[0mdf_original_train\u001b[0m\u001b[0;34m[\u001b[0m\u001b[0;34m'reviewerID'\u001b[0m\u001b[0;34m]\u001b[0m \u001b[0;34m==\u001b[0m \u001b[0mitem_userID\u001b[0m\u001b[0;34m)\u001b[0m\u001b[0;34m]\u001b[0m\u001b[0;34m\u001b[0m\u001b[0m\n\u001b[0m\u001b[1;32m     40\u001b[0m             \u001b[0;32mif\u001b[0m\u001b[0;34m(\u001b[0m\u001b[0mtemp\u001b[0m\u001b[0;34m.\u001b[0m\u001b[0msize\u001b[0m \u001b[0;34m!=\u001b[0m \u001b[0;36m0\u001b[0m\u001b[0;34m)\u001b[0m\u001b[0;34m:\u001b[0m\u001b[0;34m\u001b[0m\u001b[0m\n\u001b[1;32m     41\u001b[0m                 \u001b[0mdist\u001b[0m \u001b[0;34m=\u001b[0m \u001b[0mdist_nbrs\u001b[0m\u001b[0;34m[\u001b[0m\u001b[0mcnt\u001b[0m\u001b[0;34m:\u001b[0m\u001b[0mcnt\u001b[0m\u001b[0;34m+\u001b[0m\u001b[0;36m1\u001b[0m\u001b[0;34m]\u001b[0m\u001b[0;34m\u001b[0m\u001b[0m\n",
      "\u001b[0;31mNameError\u001b[0m: name 'df_original_train' is not defined"
     ]
    }
   ],
   "source": [
    "predict_for_this\n",
    "final_prediction = {}\n",
    "\n",
    "for i in range(20):\n",
    "#__________________________________________________________________________________________________________\n",
    "# for i in range(len(predict_for_this)): This loop needs to be run instead of above one. 5352407 records: takes time\n",
    "#__________________________________________________________________________________________________________\n",
    "    \n",
    "    item_asin = predict_for_this[i][1]\n",
    "    item_userID = predict_for_this[i][0]\n",
    "#     print(item_asin,item_userID)\n",
    "    \n",
    "    predicted_rating = 0\n",
    "    if item_asin in item_avg.index:\n",
    "        bi = item_avg.loc[item_asin]['overall'] - mean_avg\n",
    "    else:\n",
    "        bi = 0\n",
    "    if item_userID in user_avg.index:\n",
    "        bx = user_avg.loc[item_userID]['overall'] - mean_avg\n",
    "    else:\n",
    "        bx = 0\n",
    "            \n",
    "    baseline_estimate = mean_avg + bi + bx\n",
    "    predicted_rating = baseline_estimate\n",
    "#     print(baseline_estimate)\n",
    "    \n",
    "    numerator = 0 \n",
    "    denomenator = 0\n",
    "    \n",
    "    if bi:\n",
    "        \n",
    "        item  = np.where(item_map == item_asin)[0][0]\n",
    "        item_nbrs = indices[item:item+1]\n",
    "        dist_nbrs = distances[item:item+1]\n",
    "        cnt = 0;\n",
    "        k = 0\n",
    "        \n",
    "        for j in item_nbrs:\n",
    "            temp = df.loc[(df['asin'] == item_map[j[0]]) &  (df['reviewerID'] == item_userID)]\n",
    "            if(temp.size != 0):\n",
    "                dist = dist_nbrs[cnt:cnt+1]\n",
    "                numerator += ((1 - dist[0][k])*(temp['overall'].values[0] - (item_avg.loc[temp['asin']]['overall'] - mean_avg) ))\n",
    "\n",
    "                denomenator += (1 - dist[0][k])\n",
    "            cnt = cnt + 1\n",
    "            k+= 1\n",
    "        if denomenator:\n",
    "            predicted_rating += numerator/denomenator \n",
    "\n",
    "    if item_userID in final_prediction:\n",
    "        final_prediction[item_userID].append((item_asin,predicted_rating))\n",
    "    else:\n",
    "        final_prediction[(item_userID)] = [(item_asin,predicted_rating)]\n",
    "\n",
    "#___________________________________________________________\n",
    "#        Sort final_prediction on basis of rating\n",
    "#___________________________________________________________\n",
    "\n",
    "    \n",
    "print(final_prediction)"
   ]
  },
  {
   "cell_type": "code",
   "execution_count": null,
   "metadata": {},
   "outputs": [],
   "source": []
  }
 ],
 "metadata": {
  "kernelspec": {
   "display_name": "Python 3",
   "language": "python",
   "name": "python3"
  },
  "language_info": {
   "codemirror_mode": {
    "name": "ipython",
    "version": 3
   },
   "file_extension": ".py",
   "mimetype": "text/x-python",
   "name": "python",
   "nbconvert_exporter": "python",
   "pygments_lexer": "ipython3",
   "version": "3.6.4"
  }
 },
 "nbformat": 4,
 "nbformat_minor": 2
}
