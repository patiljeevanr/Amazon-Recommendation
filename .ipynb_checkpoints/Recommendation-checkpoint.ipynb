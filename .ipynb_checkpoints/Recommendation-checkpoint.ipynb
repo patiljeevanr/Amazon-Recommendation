{
 "cells": [
  {
   "cell_type": "code",
   "execution_count": 2,
   "metadata": {},
   "outputs": [],
   "source": [
    "%matplotlib inline\n",
    "import numpy as np\n",
    "import pandas as pd\n",
    "import matplotlib.pyplot as plt\n",
    "from pandas import DataFrame \n",
    "import nltk\n",
    "\n",
    "from sklearn.neighbors import NearestNeighbors\n",
    "from sklearn.linear_model import LogisticRegression\n",
    "from sklearn import neighbors\n",
    "from scipy.spatial.distance import cosine\n",
    "from sklearn.metrics import classification_report\n",
    "from sklearn.metrics import accuracy_score\n",
    "from sklearn.feature_selection import SelectKBest\n",
    "from sklearn.feature_extraction.text import CountVectorizer, TfidfTransformer\n",
    "\n",
    "import re\n",
    "import string\n",
    "from sklearn.metrics import mean_squared_error\n",
    "\n",
    "\n",
    "df= pd.read_json(\"Automotive_5.json\",lines = True)\n",
    "\n",
    "df = df[['asin','overall','reviewerID']].copy()\n",
    "\n",
    "\n",
    "from sklearn.model_selection import train_test_split\n",
    "# Splitting train and test data at the start\n",
    "df_train, df_test = train_test_split(df,test_size=0.2,stratify = df['reviewerID'])\n",
    "df_train = df_train.sort_index(axis=0)\n",
    "\n",
    "\n",
    "df_original_train = df_train.copy()\n",
    "df_train = df_train.pivot(index = \"asin\" , columns = \"reviewerID\" , values = \"overall\")\n",
    "df_train = df_train.sort_index(axis=1)\n",
    "\n",
    "\n",
    "X = df_train.values\n",
    "Y = df_train.sum(axis = 1)\n",
    "Z =df_train.count(axis =1).astype('float64')\n",
    "Y = Y.div(Z,axis=0)\n",
    "cosine\n",
    "df_new_train = df_train.sub(Y,axis=0).fillna(0)\n",
    "\n",
    "\n",
    "nbrs_train = NearestNeighbors(n_neighbors= 10 , algorithm='auto',metric ='cosine').fit(df_new_train.values)\n",
    "\n",
    "distances, indices = nbrs_train.kneighbors(df_new_train,return_distance=True)\n"
   ]
  },
  {
   "cell_type": "code",
   "execution_count": 19,
   "metadata": {
    "scrolled": true
   },
   "outputs": [],
   "source": [
    "asin_list = df_new_train.index.values.tolist()\n",
    "index_list = indices.tolist()"
   ]
  },
  {
   "cell_type": "code",
   "execution_count": 27,
   "metadata": {},
   "outputs": [
    {
     "name": "stdout",
     "output_type": "stream",
     "text": [
      "B00002243X : B0002KRABU , B000EJS9IM , B00042JSNY , B000RFSARI , B0024E6YWS , B000EDOT82 , B001TE0IMG , B00139YMUQ , B0006IX850 , \n",
      "B00002243Z : B000JFJLQA , B001V8U12M , B00AOIM2CC , B000BUQOFO , B00068XCQU , B004P91FCO , B000BUOSGG , B001CF1A7O , B0007LEG2K , \n",
      "B00008BKX5 : B003VAYJAS , B002X6VXL4 , B008DREON6 , B000760FWU , B0012VWUI6 , B0002H335A , B000BXKYYI , B000EVYGZA , B001AWU6KQ , \n",
      "B00008RW9U : B000E9TS6O , B0033A5PPO , B009OBW28E , B00029WT08 , B0009IQXCC , B0007RDVFW , B002NUABUO , B004HCOE7W , B004VB5JDW , \n",
      "B00008RW9V : B000B68V90 , B000CMDPLM , B008FV5R0Y , B003BJNT0K , B0009U7Y2I , B00265M9SS , B002BELP3Y , B003VXRPL0 , B0002RNSKK , \n"
     ]
    }
   ],
   "source": [
    "\n",
    "for i in range(5):\n",
    "    string = str(asin_list[i]) + \" : \"\n",
    "    for x in index_list[i][1:]:\n",
    "            string += asin_list[x] + \" , \"\n",
    "    print(string)"
   ]
  },
  {
   "cell_type": "code",
   "execution_count": 28,
   "metadata": {},
   "outputs": [],
   "source": [
    "item_avg = df_original_train.groupby(['asin']).mean()"
   ]
  },
  {
   "cell_type": "code",
   "execution_count": 29,
   "metadata": {},
   "outputs": [],
   "source": [
    "user_avg = df_original_train.groupby(['reviewerID']).mean()\n"
   ]
  },
  {
   "cell_type": "code",
   "execution_count": 30,
   "metadata": {},
   "outputs": [],
   "source": [
    "mean_avg = df_original_train[\"overall\"].mean()"
   ]
  },
  {
   "cell_type": "code",
   "execution_count": 31,
   "metadata": {},
   "outputs": [],
   "source": [
    "item_map = df_new_train.index.values\n"
   ]
  },
  {
   "cell_type": "code",
   "execution_count": 32,
   "metadata": {},
   "outputs": [],
   "source": [
    "df_asin = df.groupby('asin').count()\n",
    "df_asin = df_asin.index.values"
   ]
  },
  {
   "cell_type": "code",
   "execution_count": 33,
   "metadata": {},
   "outputs": [],
   "source": [
    "df_reviewerID = df.groupby('reviewerID').count()\n",
    "df_reviewerID = df_reviewerID.index.values"
   ]
  },
  {
   "cell_type": "code",
   "execution_count": 34,
   "metadata": {},
   "outputs": [],
   "source": [
    "df_dict = {}\n",
    "for line in df_original_train.values:\n",
    "    if line[0] in df_dict:\n",
    "        df_dict[line[0]].append(line[2])\n",
    "    else:\n",
    "        df_dict[line[0]] = [line[2]]"
   ]
  },
  {
   "cell_type": "code",
   "execution_count": 35,
   "metadata": {},
   "outputs": [],
   "source": [
    "predict_for_this = []\n",
    "count = 0\n",
    "for i in range(len(df_reviewerID)):\n",
    "    for j in range(len(df_asin)):\n",
    "#         print(df_asin[i])\n",
    "        if df_asin[j] not  in  df_dict or not df_reviewerID[i] in df_dict[df_asin[j]]:\n",
    "            predict_for_this.append((df_reviewerID[i],df_asin[j]))"
   ]
  },
  {
   "cell_type": "code",
   "execution_count": null,
   "metadata": {},
   "outputs": [],
   "source": [
    "final_prediction = {}\n",
    "\n",
    "for i in range(10000):\n",
    "#__________________________________________________________________________________________________________\n",
    "# for i in range(len(predict_for_this)): This loop needs to be run instead of above one. 5352407 records: takes time\n",
    "#__________________________________________________________________________________________________________\n",
    "    \n",
    "    item_asin = predict_for_this[i][1]\n",
    "#     print(item_asin)\n",
    "    item_userID = predict_for_this[i][0]\n",
    "#     print(item_asin,item_userID)\n",
    "    \n",
    "    predicted_rating = 0\n",
    "    if item_asin in item_avg.index:\n",
    "        bi = item_avg.loc[item_asin]['overall'] - mean_avg\n",
    "    else:\n",
    "        bi = 0\n",
    "    if item_userID in user_avg.index:\n",
    "        bx = user_avg.loc[item_userID]['overall'] - mean_avg\n",
    "    else:\n",
    "        bx = 0\n",
    "            \n",
    "    baseline_estimate = mean_avg + bi + bx\n",
    "    predicted_rating = baseline_estimate\n",
    "#     print(baseline_estimate)\n",
    "    \n",
    "    numerator = 0 \n",
    "    denomenator = 0\n",
    "    \n",
    "    if bi != 0 :\n",
    "        \n",
    "        item  = np.where(item_map == item_asin)[0][0]\n",
    "        item_nbrs = indices[item:item+1]\n",
    "        dist_nbrs = distances[item:item+1]\n",
    "        cnt = 0;\n",
    "        k = 0\n",
    "        \n",
    "        for j in item_nbrs:\n",
    "            temp = df_original_train.loc[(df_original_train['asin'] == item_map[j[0]]) &  (df_original_train['reviewerID'] == item_userID)]\n",
    "            if(temp.size != 0):\n",
    "                dist = dist_nbrs[cnt:cnt+1]\n",
    "                numerator += ((1 - dist[0][k])*(temp['overall'].values[0] - (item_avg.loc[temp['asin']]['overall'] - mean_avg) ))\n",
    "\n",
    "                denomenator += (1 - dist[0][k])\n",
    "            cnt = cnt + 1\n",
    "            k+= 1\n",
    "        if denomenator:\n",
    "            predicted_rating += numerator/denomenator \n",
    "\n",
    "    if item_userID in final_prediction:\n",
    "        final_prediction[item_userID].append((item_asin,predicted_rating))\n",
    "    else:\n",
    "        final_prediction[(item_userID)] = [(item_asin,predicted_rating)]\n",
    "\n",
    "#___________________________________________________________\n",
    "#        Sort final_prediction on basis of rating\n",
    "#___________________________________________________________\n",
    "\n"
   ]
  }
 ],
 "metadata": {
  "kernelspec": {
   "display_name": "Python 3",
   "language": "python",
   "name": "python3"
  },
  "language_info": {
   "codemirror_mode": {
    "name": "ipython",
    "version": 3
   },
   "file_extension": ".py",
   "mimetype": "text/x-python",
   "name": "python",
   "nbconvert_exporter": "python",
   "pygments_lexer": "ipython3",
   "version": "3.6.4"
  }
 },
 "nbformat": 4,
 "nbformat_minor": 2
}
